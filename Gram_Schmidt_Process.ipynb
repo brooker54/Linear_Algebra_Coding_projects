{
  "nbformat": 4,
  "nbformat_minor": 0,
  "metadata": {
    "colab": {
      "name": "Gram Schmidt Process.ipynb",
      "provenance": [],
      "authorship_tag": "ABX9TyMktYzl86ETkFS/lz+6EctJ",
      "include_colab_link": true
    },
    "kernelspec": {
      "name": "python3",
      "display_name": "Python 3"
    },
    "language_info": {
      "name": "python"
    }
  },
  "cells": [
    {
      "cell_type": "markdown",
      "metadata": {
        "id": "view-in-github",
        "colab_type": "text"
      },
      "source": [
        "<a href=\"https://colab.research.google.com/github/brooker54/Linear_Algebra_Coding_projects/blob/main/Gram_Schmidt_Process.ipynb\" target=\"_parent\"><img src=\"https://colab.research.google.com/assets/colab-badge.svg\" alt=\"Open In Colab\"/></a>"
      ]
    },
    {
      "cell_type": "code",
      "execution_count": 1,
      "metadata": {
        "id": "zSG-2xV4PzU3"
      },
      "outputs": [],
      "source": [
        "import numpy as np\n",
        "from numpy import c_"
      ]
    },
    {
      "cell_type": "code",
      "source": [
        "# write vectors\n",
        "r1 = np.array([3, 6, 0])\n",
        "r1\n",
        "# dot product of r1 with itself:\n",
        "r1.dot(r1)"
      ],
      "metadata": {
        "colab": {
          "base_uri": "https://localhost:8080/"
        },
        "id": "qQy8bayGQOvo",
        "outputId": "4a528c38-7814-4f83-e42b-6403b2e6eccf"
      },
      "execution_count": 9,
      "outputs": [
        {
          "output_type": "execute_result",
          "data": {
            "text/plain": [
              "45"
            ]
          },
          "metadata": {},
          "execution_count": 9
        }
      ]
    },
    {
      "cell_type": "code",
      "source": [
        "np.sqrt(45)"
      ],
      "metadata": {
        "colab": {
          "base_uri": "https://localhost:8080/"
        },
        "id": "bm8spGtiQd0Q",
        "outputId": "762df62d-e33d-425a-af75-995d21751e99"
      },
      "execution_count": 11,
      "outputs": [
        {
          "output_type": "execute_result",
          "data": {
            "text/plain": [
              "6.708203932499369"
            ]
          },
          "metadata": {},
          "execution_count": 11
        }
      ]
    },
    {
      "cell_type": "code",
      "source": [
        "print(\"this is the square root of 45:\", np.sqrt(45))"
      ],
      "metadata": {
        "colab": {
          "base_uri": "https://localhost:8080/"
        },
        "id": "rNT27QlLSXoV",
        "outputId": "44852f4c-87fd-4a7e-f4a5-d8b59a7f84f3"
      },
      "execution_count": 12,
      "outputs": [
        {
          "output_type": "stream",
          "name": "stdout",
          "text": [
            "this is the square root of 45: 6.708203932499369\n"
          ]
        }
      ]
    },
    {
      "cell_type": "code",
      "source": [
        "# Gram-Schmidt process using the first vector [3, 6, 0]\n",
        "r1 = np.array([3, 6, 0])\n",
        "print(\"Our first messy vector is \", r1)\n",
        "# Temporary vector T1\n",
        "T1 = r1\n",
        "print(\"Our T1 vector is \", T1)\n",
        "# Find the magnitude of T1\n",
        "n1 = np.sqrt(T1.dot(T1))\n",
        "print(\"The size of T1 is |T1| = \", n1)\n",
        "# renormalize, and create u1:\n",
        "u1 = (1/n1) * T1\n",
        "print(\"u1 = \", u1)"
      ],
      "metadata": {
        "colab": {
          "base_uri": "https://localhost:8080/"
        },
        "id": "QK8PjBuESuNU",
        "outputId": "c6c88a33-6668-4931-d388-8f6850f6744f"
      },
      "execution_count": 18,
      "outputs": [
        {
          "output_type": "stream",
          "name": "stdout",
          "text": [
            "Our first messy vector is  [3 6 0]\n",
            "Our T1 vector is  [3 6 0]\n",
            "The size of T1 is |T1| =  6.708203932499369\n",
            "u1 =  [0.4472136  0.89442719 0.        ]\n"
          ]
        }
      ]
    },
    {
      "cell_type": "code",
      "source": [
        "# Gram-Schmidt process using the second vector [6, 2, 0]\n",
        "r2 = np.array([6, 2, 0])\n",
        "print(\"Our second messy vector is \", r2)\n",
        "# Temporary vector T2\n",
        "T2 = r2 - (r2.dot(u1))*u1\n",
        "print(\"Our T2 vector is \", T2)\n",
        "# Find the magnitude of T2\n",
        "n2 = np.sqrt(T2.dot(T2))\n",
        "print(\"The size of T2 is |T2| = \", n2)\n",
        "# renormalize, and create u2:\n",
        "u2 = (1/n2) * T2\n",
        "print(\"u2 = \", u2)"
      ],
      "metadata": {
        "colab": {
          "base_uri": "https://localhost:8080/"
        },
        "id": "1GmqHkvLTUSB",
        "outputId": "870437e7-87a9-4325-c575-ca293e754b70"
      },
      "execution_count": 22,
      "outputs": [
        {
          "output_type": "stream",
          "name": "stdout",
          "text": [
            "Our second messy vector is  [6 2 0]\n",
            "Our T2 vector is  [ 4. -2.  0.]\n",
            "The size of T2 is |T2| =  4.47213595499958\n",
            "u2 =  [ 0.89442719 -0.4472136   0.        ]\n"
          ]
        }
      ]
    },
    {
      "cell_type": "code",
      "source": [
        "# Gram-Schmidt process using the third vector [-4, 2, 0]\n",
        "r3 = np.array([-4, 2, 0])\n",
        "print(\"Our third messy vector is \", r3)\n",
        "# Temporary vector T3\n",
        "T3 = r3 - (r3.dot(u1))*u1 - (r3.dot(u2))*u2\n",
        "print(\"Our T3 vector is \", T3)\n",
        "# Find the magnitude of T3\n",
        "n3 = np.sqrt(T3.dot(T3))\n",
        "print(\"The size of T3 is |T3| = \", n3)\n"
      ],
      "metadata": {
        "colab": {
          "base_uri": "https://localhost:8080/"
        },
        "id": "bzjVh8jdVVrW",
        "outputId": "731b7a56-d2c5-4170-9964-aabd58f57017"
      },
      "execution_count": 24,
      "outputs": [
        {
          "output_type": "stream",
          "name": "stdout",
          "text": [
            "Our third messy vector is  [-4  2  0]\n",
            "Our T3 vector is  [-4.4408921e-16 -8.8817842e-16  0.0000000e+00]\n",
            "The size of T3 is |T3| =  9.930136612989092e-16\n"
          ]
        }
      ]
    },
    {
      "cell_type": "code",
      "source": [
        "# Gram-Schmidt process using the fourth vector [3, -4, 3]\n",
        "r4 = np.array([3, -4, 3])\n",
        "print(\"Our fourth messy vector is \", r4)\n",
        "# Temporary vector T4\n",
        "T4 = r4 - (r4.dot(u1))*u1 - (r4.dot(u2))*u2\n",
        "print(\"Our T4 vector is \", T4)\n",
        "# Find the magnitude of T4\n",
        "n4 = np.sqrt(T4.dot(T4))\n",
        "print(\"The size of T4 is |T4| = \", n4)\n",
        "# renormalize, and create u4:\n",
        "u4 = (1/n4) * T4\n",
        "print(\"u4 = \", u4)"
      ],
      "metadata": {
        "colab": {
          "base_uri": "https://localhost:8080/"
        },
        "id": "up6qxEbRW9ot",
        "outputId": "00734b25-5d12-4945-b16f-cec90a7239a8"
      },
      "execution_count": 26,
      "outputs": [
        {
          "output_type": "stream",
          "name": "stdout",
          "text": [
            "Our fourth messy vector is  [ 3 -4  3]\n",
            "Our T4 vector is  [4.44089210e-16 1.33226763e-15 3.00000000e+00]\n",
            "The size of T4 is |T4| =  3.0\n",
            "u4 =  [1.48029737e-16 4.44089210e-16 1.00000000e+00]\n"
          ]
        }
      ]
    },
    {
      "cell_type": "code",
      "source": [
        ""
      ],
      "metadata": {
        "id": "CpFpEsBAXl3V"
      },
      "execution_count": null,
      "outputs": []
    }
  ]
}